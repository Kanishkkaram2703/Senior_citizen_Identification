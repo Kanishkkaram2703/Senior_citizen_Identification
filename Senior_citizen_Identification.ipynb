{
 "cells": [
  {
   "cell_type": "code",
   "execution_count": 2,
   "id": "a75b1574-0d44-4230-815d-8e25a27065ab",
   "metadata": {},
   "outputs": [],
   "source": [
    "import os\n",
    "import numpy as np\n",
    "import tensorflow as tf\n",
    "from tensorflow.keras.preprocessing.image import ImageDataGenerator\n",
    "from tensorflow.keras.models import Sequential\n",
    "from tensorflow.keras.layers import Conv2D, MaxPooling2D, Flatten, Dense, Dropout, BatchNormalization, Input, Activation\n",
    "from tensorflow.keras.optimizers import Adam\n",
    "from tensorflow.keras.callbacks import EarlyStopping, ReduceLROnPlateau\n",
    "from sklearn.metrics import classification_report, confusion_matrix\n",
    "import matplotlib.pyplot as plt\n",
    "import warnings\n",
    "warnings.filterwarnings('ignore')"
   ]
  },
  {
   "cell_type": "code",
   "execution_count": 3,
   "id": "c397775b-b289-44c4-9b0b-50198f9aabc4",
   "metadata": {},
   "outputs": [],
   "source": [
    "IMAGE_SIZE = (96, 96)\n",
    "BATCH_SIZE = 64\n",
    "EPOCHS = 30"
   ]
  },
  {
   "cell_type": "code",
   "execution_count": 4,
   "id": "16cb5810-e53b-42cc-90da-010a8c9f30c1",
   "metadata": {},
   "outputs": [],
   "source": [
    "BASE_DATA_DIR =  \"archive (1)/UTKFace\""
   ]
  },
  {
   "cell_type": "code",
   "execution_count": 5,
   "id": "8f18f4fc-0dc9-49f6-849a-659ffa740c90",
   "metadata": {},
   "outputs": [],
   "source": [
    "MODEL_SAVE_DIR = 'saved_age_gender_models'\n",
    "os.makedirs(MODEL_SAVE_DIR, exist_ok=True)"
   ]
  },
  {
   "cell_type": "code",
   "execution_count": 6,
   "id": "662073ca-7f4e-406a-8d1e-68a1aa153ddd",
   "metadata": {},
   "outputs": [],
   "source": [
    "AGE_MODEL_PATH = os.path.join(MODEL_SAVE_DIR, 'AGE_GROUP_MODELS.h5')\n",
    "GENDER_MODEL_PATH = os.path.join(MODEL_SAVE_DIR, 'GENDER_MODELS.h5')"
   ]
  },
  {
   "cell_type": "code",
   "execution_count": 7,
   "id": "ded38f76-11e2-4bde-ae8b-74a3b08e9222",
   "metadata": {},
   "outputs": [],
   "source": [
    "AGE_BINS = [0, 18, 30, 45, 60, 120] \n",
    "AGE_LABELS = ['0-18', '19-30', '31-45', '46-60', '61+']\n",
    "NUM_AGE_CLASSES = len(AGE_LABELS)"
   ]
  },
  {
   "cell_type": "code",
   "execution_count": 8,
   "id": "35f5a3f4-45c1-4097-b063-82235183d4d0",
   "metadata": {},
   "outputs": [],
   "source": [
    "GENDER_LABELS = ['Male', 'Female'] \n",
    "NUM_GENDER_CLASSES = len(GENDER_LABELS)"
   ]
  },
  {
   "cell_type": "code",
   "execution_count": 9,
   "id": "a0deacb8-1515-4806-a85f-197d3f311c03",
   "metadata": {},
   "outputs": [],
   "source": [
    "def load_data_from_directory(data_dir):\n",
    "    image_paths = []\n",
    "    ages = []\n",
    "    genders = []\n",
    "    \n",
    "    print(f\"Scanning directory: {data_dir}\")\n",
    "    if not os.path.isdir(data_dir):\n",
    "        print(f\"Error: Directory not found: {data_dir}\")\n",
    "        return [], [], []\n",
    "\n",
    "    valid_extensions = ('.jpg', '.jpeg', '.png', '.bmp')\n",
    "    count = 0\n",
    "\n",
    "    for filename in os.listdir(data_dir):\n",
    "        if filename.lower().endswith(valid_extensions):\n",
    "            try:\n",
    "                parts = filename.split('_')\n",
    "                if len(parts) >= 3:\n",
    "                    age = int(parts[0])\n",
    "                    gender = int(parts[1])\n",
    "                    \n",
    "                    if age < 0 or age > 116 or gender not in [0, 1]:\n",
    "                        continue\n",
    "\n",
    "                    image_paths.append(os.path.join(data_dir, filename))\n",
    "                    ages.append(age)\n",
    "                    genders.append(gender)\n",
    "                    count += 1\n",
    "\n",
    "            except ValueError:\n",
    "                continue\n",
    "            except Exception as e:\n",
    "                print(f\"Error processing file {filename}: {e}\")\n",
    "\n",
    "    print(f\"Found {count} valid images.\")\n",
    "    if count == 0:\n",
    "        print(\"Error: No valid images found. Check directory path and file naming.\")\n",
    "    \n",
    "    return image_paths, ages, genders"
   ]
  },
  {
   "cell_type": "code",
   "execution_count": 10,
   "id": "a025f20c-19dc-4a8f-9416-1623ff3d434f",
   "metadata": {},
   "outputs": [
    {
     "name": "stdout",
     "output_type": "stream",
     "text": [
      "Scanning directory: archive (1)/UTKFace\n",
      "Found 23708 valid images.\n"
     ]
    }
   ],
   "source": [
    "image_paths, ages_raw, genders_raw = load_data_from_directory(BASE_DATA_DIR)\n",
    "if not image_paths:\n",
    "    print(\"!!! CRITICAL ERROR: No image data loaded. Exiting training script.\")\n",
    "    print(f\"!!! Please ensure the directory '{BASE_DATA_DIR}' exists and contains correctly named images (e.g., 'age_gender_...jpg').\")\n",
    "    exit()"
   ]
  },
  {
   "cell_type": "code",
   "execution_count": 11,
   "id": "8ed1c3a6-0443-4d99-b41b-1a3a9e9f2a74",
   "metadata": {},
   "outputs": [],
   "source": [
    "age_groups = np.digitize(ages_raw, bins=AGE_BINS[1:], right=True)"
   ]
  },
  {
   "cell_type": "code",
   "execution_count": 12,
   "id": "9059c035-9aee-40ff-ae48-3388c308d25b",
   "metadata": {},
   "outputs": [],
   "source": [
    "age_groups_onehot = tf.keras.utils.to_categorical(age_groups, num_classes=NUM_AGE_CLASSES)"
   ]
  },
  {
   "cell_type": "code",
   "execution_count": 13,
   "id": "5cd17c5f-77d3-4058-8a21-a7f5c4680e23",
   "metadata": {},
   "outputs": [],
   "source": [
    "genders_np = np.array(genders_raw)"
   ]
  },
  {
   "cell_type": "code",
   "execution_count": 14,
   "id": "176b65ae-b3b3-4f6d-a9fe-26851cf50b8b",
   "metadata": {},
   "outputs": [],
   "source": [
    "from sklearn.model_selection import train_test_split"
   ]
  },
  {
   "cell_type": "code",
   "execution_count": 15,
   "id": "860b93cf-e62f-4206-83cb-5e9473316055",
   "metadata": {},
   "outputs": [],
   "source": [
    "X_train_paths, X_val_paths, \\\n",
    "y_age_train, y_age_val, \\\n",
    "y_gender_train, y_gender_val = train_test_split(\n",
    "    image_paths, age_groups_onehot, genders_np,\n",
    "    test_size=0.2, random_state=42, stratify=genders_np \n",
    ")"
   ]
  },
  {
   "cell_type": "code",
   "execution_count": 16,
   "id": "a8adc8a9-9c40-45e8-9cdb-6de572d7eb82",
   "metadata": {},
   "outputs": [
    {
     "name": "stdout",
     "output_type": "stream",
     "text": [
      "Training samples: 18966, Validation samples: 4742\n"
     ]
    }
   ],
   "source": [
    "print(f\"Training samples: {len(X_train_paths)}, Validation samples: {len(X_val_paths)}\")"
   ]
  },
  {
   "cell_type": "code",
   "execution_count": 17,
   "id": "dad068f3-ed63-4a67-a96d-359c272e76c8",
   "metadata": {},
   "outputs": [],
   "source": [
    "class CustomDataGenerator(tf.keras.utils.Sequence):\n",
    "    def __init__(self, image_paths, age_labels, gender_labels, batch_size, target_size, shuffle=True):\n",
    "        self.image_paths = image_paths\n",
    "        self.age_labels = age_labels\n",
    "        self.gender_labels = gender_labels\n",
    "        self.batch_size = batch_size\n",
    "        self.target_size = target_size\n",
    "        self.shuffle = shuffle\n",
    "        self.indexes = np.arange(len(self.image_paths))\n",
    "        if self.shuffle:\n",
    "            np.random.shuffle(self.indexes)\n",
    "    \n",
    "    def __len__(self):\n",
    "        return int(np.floor(len(self.image_paths) / self.batch_size))\n",
    "    \n",
    "    def __getitem__(self, index):\n",
    "        batch_indexes = self.indexes[index * self.batch_size : (index + 1) * self.batch_size]\n",
    "        batch_paths = [self.image_paths[i] for i in batch_indexes]\n",
    "\n",
    "        X = np.empty((self.batch_size, *self.target_size, 3))\n",
    "        y_age = np.empty((self.batch_size, NUM_AGE_CLASSES), dtype=int)\n",
    "        y_gender = np.empty((self.batch_size, 1), dtype=int)\n",
    "\n",
    "        for i, path in enumerate(batch_paths):\n",
    "            try:\n",
    "                img = tf.keras.preprocessing.image.load_img(path, target_size=self.target_size)\n",
    "                img_array = tf.keras.preprocessing.image.img_to_array(img)\n",
    "                img_array /= 255.0\n",
    "                X[i,] = img_array\n",
    "                y_age[i,] = self.age_labels[batch_indexes[i]]\n",
    "                y_gender[i,] = self.gender_labels[batch_indexes[i]]\n",
    "            except Exception as e:\n",
    "                print(f\"Warning: Error loading image {path}, skipping: {e}\")\n",
    "                X[i,] = np.zeros((*self.target_size, 3))\n",
    "                y_age[i,] = tf.keras.utils.to_categorical(0, num_classes=NUM_AGE_CLASSES)\n",
    "                y_gender[i,] = 0\n",
    "\n",
    "        return X, {'age_output': y_age, 'gender_output': y_gender}\n",
    "\n",
    "    def on_epoch_end(self):\n",
    "        if self.shuffle:\n",
    "            np.random.shuffle(self.indexes)"
   ]
  },
  {
   "cell_type": "code",
   "execution_count": 18,
   "id": "34171f4c-7507-4129-b5e8-7f50faa42d7d",
   "metadata": {},
   "outputs": [],
   "source": [
    "train_generator = CustomDataGenerator(X_train_paths, y_age_train, y_gender_train, BATCH_SIZE, IMAGE_SIZE)\n",
    "validation_generator = CustomDataGenerator(X_val_paths, y_age_val, y_gender_val, BATCH_SIZE, IMAGE_SIZE, shuffle=False)"
   ]
  },
  {
   "cell_type": "code",
   "execution_count": 19,
   "id": "1ba55fe9-d887-42de-a302-970ef3c14e04",
   "metadata": {},
   "outputs": [
    {
     "data": {
      "text/html": [
       "<pre style=\"white-space:pre;overflow-x:auto;line-height:normal;font-family:Menlo,'DejaVu Sans Mono',consolas,'Courier New',monospace\"><span style=\"font-weight: bold\">Model: \"AgeGenderModel\"</span>\n",
       "</pre>\n"
      ],
      "text/plain": [
       "\u001b[1mModel: \"AgeGenderModel\"\u001b[0m\n"
      ]
     },
     "metadata": {},
     "output_type": "display_data"
    },
    {
     "data": {
      "text/html": [
       "<pre style=\"white-space:pre;overflow-x:auto;line-height:normal;font-family:Menlo,'DejaVu Sans Mono',consolas,'Courier New',monospace\">┏━━━━━━━━━━━━━━━━━━━━━━━━━━━━━━━┳━━━━━━━━━━━━━━━━━━━━━━━━━━━┳━━━━━━━━━━━━━━━━━┳━━━━━━━━━━━━━━━━━━━━━━━━━━━━┓\n",
       "┃<span style=\"font-weight: bold\"> Layer (type)                  </span>┃<span style=\"font-weight: bold\"> Output Shape              </span>┃<span style=\"font-weight: bold\">         Param # </span>┃<span style=\"font-weight: bold\"> Connected to               </span>┃\n",
       "┡━━━━━━━━━━━━━━━━━━━━━━━━━━━━━━━╇━━━━━━━━━━━━━━━━━━━━━━━━━━━╇━━━━━━━━━━━━━━━━━╇━━━━━━━━━━━━━━━━━━━━━━━━━━━━┩\n",
       "│ input_layer (<span style=\"color: #0087ff; text-decoration-color: #0087ff\">InputLayer</span>)      │ (<span style=\"color: #00d7ff; text-decoration-color: #00d7ff\">None</span>, <span style=\"color: #00af00; text-decoration-color: #00af00\">96</span>, <span style=\"color: #00af00; text-decoration-color: #00af00\">96</span>, <span style=\"color: #00af00; text-decoration-color: #00af00\">3</span>)         │               <span style=\"color: #00af00; text-decoration-color: #00af00\">0</span> │ -                          │\n",
       "├───────────────────────────────┼───────────────────────────┼─────────────────┼────────────────────────────┤\n",
       "│ conv2d (<span style=\"color: #0087ff; text-decoration-color: #0087ff\">Conv2D</span>)               │ (<span style=\"color: #00d7ff; text-decoration-color: #00d7ff\">None</span>, <span style=\"color: #00af00; text-decoration-color: #00af00\">96</span>, <span style=\"color: #00af00; text-decoration-color: #00af00\">96</span>, <span style=\"color: #00af00; text-decoration-color: #00af00\">32</span>)        │             <span style=\"color: #00af00; text-decoration-color: #00af00\">896</span> │ input_layer[<span style=\"color: #00af00; text-decoration-color: #00af00\">0</span>][<span style=\"color: #00af00; text-decoration-color: #00af00\">0</span>]          │\n",
       "├───────────────────────────────┼───────────────────────────┼─────────────────┼────────────────────────────┤\n",
       "│ batch_normalization           │ (<span style=\"color: #00d7ff; text-decoration-color: #00d7ff\">None</span>, <span style=\"color: #00af00; text-decoration-color: #00af00\">96</span>, <span style=\"color: #00af00; text-decoration-color: #00af00\">96</span>, <span style=\"color: #00af00; text-decoration-color: #00af00\">32</span>)        │             <span style=\"color: #00af00; text-decoration-color: #00af00\">128</span> │ conv2d[<span style=\"color: #00af00; text-decoration-color: #00af00\">0</span>][<span style=\"color: #00af00; text-decoration-color: #00af00\">0</span>]               │\n",
       "│ (<span style=\"color: #0087ff; text-decoration-color: #0087ff\">BatchNormalization</span>)          │                           │                 │                            │\n",
       "├───────────────────────────────┼───────────────────────────┼─────────────────┼────────────────────────────┤\n",
       "│ activation (<span style=\"color: #0087ff; text-decoration-color: #0087ff\">Activation</span>)       │ (<span style=\"color: #00d7ff; text-decoration-color: #00d7ff\">None</span>, <span style=\"color: #00af00; text-decoration-color: #00af00\">96</span>, <span style=\"color: #00af00; text-decoration-color: #00af00\">96</span>, <span style=\"color: #00af00; text-decoration-color: #00af00\">32</span>)        │               <span style=\"color: #00af00; text-decoration-color: #00af00\">0</span> │ batch_normalization[<span style=\"color: #00af00; text-decoration-color: #00af00\">0</span>][<span style=\"color: #00af00; text-decoration-color: #00af00\">0</span>]  │\n",
       "├───────────────────────────────┼───────────────────────────┼─────────────────┼────────────────────────────┤\n",
       "│ max_pooling2d (<span style=\"color: #0087ff; text-decoration-color: #0087ff\">MaxPooling2D</span>)  │ (<span style=\"color: #00d7ff; text-decoration-color: #00d7ff\">None</span>, <span style=\"color: #00af00; text-decoration-color: #00af00\">48</span>, <span style=\"color: #00af00; text-decoration-color: #00af00\">48</span>, <span style=\"color: #00af00; text-decoration-color: #00af00\">32</span>)        │               <span style=\"color: #00af00; text-decoration-color: #00af00\">0</span> │ activation[<span style=\"color: #00af00; text-decoration-color: #00af00\">0</span>][<span style=\"color: #00af00; text-decoration-color: #00af00\">0</span>]           │\n",
       "├───────────────────────────────┼───────────────────────────┼─────────────────┼────────────────────────────┤\n",
       "│ conv2d_1 (<span style=\"color: #0087ff; text-decoration-color: #0087ff\">Conv2D</span>)             │ (<span style=\"color: #00d7ff; text-decoration-color: #00d7ff\">None</span>, <span style=\"color: #00af00; text-decoration-color: #00af00\">48</span>, <span style=\"color: #00af00; text-decoration-color: #00af00\">48</span>, <span style=\"color: #00af00; text-decoration-color: #00af00\">64</span>)        │          <span style=\"color: #00af00; text-decoration-color: #00af00\">18,496</span> │ max_pooling2d[<span style=\"color: #00af00; text-decoration-color: #00af00\">0</span>][<span style=\"color: #00af00; text-decoration-color: #00af00\">0</span>]        │\n",
       "├───────────────────────────────┼───────────────────────────┼─────────────────┼────────────────────────────┤\n",
       "│ batch_normalization_1         │ (<span style=\"color: #00d7ff; text-decoration-color: #00d7ff\">None</span>, <span style=\"color: #00af00; text-decoration-color: #00af00\">48</span>, <span style=\"color: #00af00; text-decoration-color: #00af00\">48</span>, <span style=\"color: #00af00; text-decoration-color: #00af00\">64</span>)        │             <span style=\"color: #00af00; text-decoration-color: #00af00\">256</span> │ conv2d_1[<span style=\"color: #00af00; text-decoration-color: #00af00\">0</span>][<span style=\"color: #00af00; text-decoration-color: #00af00\">0</span>]             │\n",
       "│ (<span style=\"color: #0087ff; text-decoration-color: #0087ff\">BatchNormalization</span>)          │                           │                 │                            │\n",
       "├───────────────────────────────┼───────────────────────────┼─────────────────┼────────────────────────────┤\n",
       "│ activation_1 (<span style=\"color: #0087ff; text-decoration-color: #0087ff\">Activation</span>)     │ (<span style=\"color: #00d7ff; text-decoration-color: #00d7ff\">None</span>, <span style=\"color: #00af00; text-decoration-color: #00af00\">48</span>, <span style=\"color: #00af00; text-decoration-color: #00af00\">48</span>, <span style=\"color: #00af00; text-decoration-color: #00af00\">64</span>)        │               <span style=\"color: #00af00; text-decoration-color: #00af00\">0</span> │ batch_normalization_1[<span style=\"color: #00af00; text-decoration-color: #00af00\">0</span>][<span style=\"color: #00af00; text-decoration-color: #00af00\">…</span> │\n",
       "├───────────────────────────────┼───────────────────────────┼─────────────────┼────────────────────────────┤\n",
       "│ max_pooling2d_1               │ (<span style=\"color: #00d7ff; text-decoration-color: #00d7ff\">None</span>, <span style=\"color: #00af00; text-decoration-color: #00af00\">24</span>, <span style=\"color: #00af00; text-decoration-color: #00af00\">24</span>, <span style=\"color: #00af00; text-decoration-color: #00af00\">64</span>)        │               <span style=\"color: #00af00; text-decoration-color: #00af00\">0</span> │ activation_1[<span style=\"color: #00af00; text-decoration-color: #00af00\">0</span>][<span style=\"color: #00af00; text-decoration-color: #00af00\">0</span>]         │\n",
       "│ (<span style=\"color: #0087ff; text-decoration-color: #0087ff\">MaxPooling2D</span>)                │                           │                 │                            │\n",
       "├───────────────────────────────┼───────────────────────────┼─────────────────┼────────────────────────────┤\n",
       "│ conv2d_2 (<span style=\"color: #0087ff; text-decoration-color: #0087ff\">Conv2D</span>)             │ (<span style=\"color: #00d7ff; text-decoration-color: #00d7ff\">None</span>, <span style=\"color: #00af00; text-decoration-color: #00af00\">24</span>, <span style=\"color: #00af00; text-decoration-color: #00af00\">24</span>, <span style=\"color: #00af00; text-decoration-color: #00af00\">128</span>)       │          <span style=\"color: #00af00; text-decoration-color: #00af00\">73,856</span> │ max_pooling2d_1[<span style=\"color: #00af00; text-decoration-color: #00af00\">0</span>][<span style=\"color: #00af00; text-decoration-color: #00af00\">0</span>]      │\n",
       "├───────────────────────────────┼───────────────────────────┼─────────────────┼────────────────────────────┤\n",
       "│ batch_normalization_2         │ (<span style=\"color: #00d7ff; text-decoration-color: #00d7ff\">None</span>, <span style=\"color: #00af00; text-decoration-color: #00af00\">24</span>, <span style=\"color: #00af00; text-decoration-color: #00af00\">24</span>, <span style=\"color: #00af00; text-decoration-color: #00af00\">128</span>)       │             <span style=\"color: #00af00; text-decoration-color: #00af00\">512</span> │ conv2d_2[<span style=\"color: #00af00; text-decoration-color: #00af00\">0</span>][<span style=\"color: #00af00; text-decoration-color: #00af00\">0</span>]             │\n",
       "│ (<span style=\"color: #0087ff; text-decoration-color: #0087ff\">BatchNormalization</span>)          │                           │                 │                            │\n",
       "├───────────────────────────────┼───────────────────────────┼─────────────────┼────────────────────────────┤\n",
       "│ activation_2 (<span style=\"color: #0087ff; text-decoration-color: #0087ff\">Activation</span>)     │ (<span style=\"color: #00d7ff; text-decoration-color: #00d7ff\">None</span>, <span style=\"color: #00af00; text-decoration-color: #00af00\">24</span>, <span style=\"color: #00af00; text-decoration-color: #00af00\">24</span>, <span style=\"color: #00af00; text-decoration-color: #00af00\">128</span>)       │               <span style=\"color: #00af00; text-decoration-color: #00af00\">0</span> │ batch_normalization_2[<span style=\"color: #00af00; text-decoration-color: #00af00\">0</span>][<span style=\"color: #00af00; text-decoration-color: #00af00\">…</span> │\n",
       "├───────────────────────────────┼───────────────────────────┼─────────────────┼────────────────────────────┤\n",
       "│ max_pooling2d_2               │ (<span style=\"color: #00d7ff; text-decoration-color: #00d7ff\">None</span>, <span style=\"color: #00af00; text-decoration-color: #00af00\">12</span>, <span style=\"color: #00af00; text-decoration-color: #00af00\">12</span>, <span style=\"color: #00af00; text-decoration-color: #00af00\">128</span>)       │               <span style=\"color: #00af00; text-decoration-color: #00af00\">0</span> │ activation_2[<span style=\"color: #00af00; text-decoration-color: #00af00\">0</span>][<span style=\"color: #00af00; text-decoration-color: #00af00\">0</span>]         │\n",
       "│ (<span style=\"color: #0087ff; text-decoration-color: #0087ff\">MaxPooling2D</span>)                │                           │                 │                            │\n",
       "├───────────────────────────────┼───────────────────────────┼─────────────────┼────────────────────────────┤\n",
       "│ flatten (<span style=\"color: #0087ff; text-decoration-color: #0087ff\">Flatten</span>)             │ (<span style=\"color: #00d7ff; text-decoration-color: #00d7ff\">None</span>, <span style=\"color: #00af00; text-decoration-color: #00af00\">18432</span>)             │               <span style=\"color: #00af00; text-decoration-color: #00af00\">0</span> │ max_pooling2d_2[<span style=\"color: #00af00; text-decoration-color: #00af00\">0</span>][<span style=\"color: #00af00; text-decoration-color: #00af00\">0</span>]      │\n",
       "├───────────────────────────────┼───────────────────────────┼─────────────────┼────────────────────────────┤\n",
       "│ dense (<span style=\"color: #0087ff; text-decoration-color: #0087ff\">Dense</span>)                 │ (<span style=\"color: #00d7ff; text-decoration-color: #00d7ff\">None</span>, <span style=\"color: #00af00; text-decoration-color: #00af00\">128</span>)               │       <span style=\"color: #00af00; text-decoration-color: #00af00\">2,359,424</span> │ flatten[<span style=\"color: #00af00; text-decoration-color: #00af00\">0</span>][<span style=\"color: #00af00; text-decoration-color: #00af00\">0</span>]              │\n",
       "├───────────────────────────────┼───────────────────────────┼─────────────────┼────────────────────────────┤\n",
       "│ batch_normalization_3         │ (<span style=\"color: #00d7ff; text-decoration-color: #00d7ff\">None</span>, <span style=\"color: #00af00; text-decoration-color: #00af00\">128</span>)               │             <span style=\"color: #00af00; text-decoration-color: #00af00\">512</span> │ dense[<span style=\"color: #00af00; text-decoration-color: #00af00\">0</span>][<span style=\"color: #00af00; text-decoration-color: #00af00\">0</span>]                │\n",
       "│ (<span style=\"color: #0087ff; text-decoration-color: #0087ff\">BatchNormalization</span>)          │                           │                 │                            │\n",
       "├───────────────────────────────┼───────────────────────────┼─────────────────┼────────────────────────────┤\n",
       "│ activation_3 (<span style=\"color: #0087ff; text-decoration-color: #0087ff\">Activation</span>)     │ (<span style=\"color: #00d7ff; text-decoration-color: #00d7ff\">None</span>, <span style=\"color: #00af00; text-decoration-color: #00af00\">128</span>)               │               <span style=\"color: #00af00; text-decoration-color: #00af00\">0</span> │ batch_normalization_3[<span style=\"color: #00af00; text-decoration-color: #00af00\">0</span>][<span style=\"color: #00af00; text-decoration-color: #00af00\">…</span> │\n",
       "├───────────────────────────────┼───────────────────────────┼─────────────────┼────────────────────────────┤\n",
       "│ dropout (<span style=\"color: #0087ff; text-decoration-color: #0087ff\">Dropout</span>)             │ (<span style=\"color: #00d7ff; text-decoration-color: #00d7ff\">None</span>, <span style=\"color: #00af00; text-decoration-color: #00af00\">128</span>)               │               <span style=\"color: #00af00; text-decoration-color: #00af00\">0</span> │ activation_3[<span style=\"color: #00af00; text-decoration-color: #00af00\">0</span>][<span style=\"color: #00af00; text-decoration-color: #00af00\">0</span>]         │\n",
       "├───────────────────────────────┼───────────────────────────┼─────────────────┼────────────────────────────┤\n",
       "│ age_output (<span style=\"color: #0087ff; text-decoration-color: #0087ff\">Dense</span>)            │ (<span style=\"color: #00d7ff; text-decoration-color: #00d7ff\">None</span>, <span style=\"color: #00af00; text-decoration-color: #00af00\">5</span>)                 │             <span style=\"color: #00af00; text-decoration-color: #00af00\">645</span> │ dropout[<span style=\"color: #00af00; text-decoration-color: #00af00\">0</span>][<span style=\"color: #00af00; text-decoration-color: #00af00\">0</span>]              │\n",
       "├───────────────────────────────┼───────────────────────────┼─────────────────┼────────────────────────────┤\n",
       "│ gender_output (<span style=\"color: #0087ff; text-decoration-color: #0087ff\">Dense</span>)         │ (<span style=\"color: #00d7ff; text-decoration-color: #00d7ff\">None</span>, <span style=\"color: #00af00; text-decoration-color: #00af00\">1</span>)                 │             <span style=\"color: #00af00; text-decoration-color: #00af00\">129</span> │ dropout[<span style=\"color: #00af00; text-decoration-color: #00af00\">0</span>][<span style=\"color: #00af00; text-decoration-color: #00af00\">0</span>]              │\n",
       "└───────────────────────────────┴───────────────────────────┴─────────────────┴────────────────────────────┘\n",
       "</pre>\n"
      ],
      "text/plain": [
       "┏━━━━━━━━━━━━━━━━━━━━━━━━━━━━━━━┳━━━━━━━━━━━━━━━━━━━━━━━━━━━┳━━━━━━━━━━━━━━━━━┳━━━━━━━━━━━━━━━━━━━━━━━━━━━━┓\n",
       "┃\u001b[1m \u001b[0m\u001b[1mLayer (type)                 \u001b[0m\u001b[1m \u001b[0m┃\u001b[1m \u001b[0m\u001b[1mOutput Shape             \u001b[0m\u001b[1m \u001b[0m┃\u001b[1m \u001b[0m\u001b[1m        Param #\u001b[0m\u001b[1m \u001b[0m┃\u001b[1m \u001b[0m\u001b[1mConnected to              \u001b[0m\u001b[1m \u001b[0m┃\n",
       "┡━━━━━━━━━━━━━━━━━━━━━━━━━━━━━━━╇━━━━━━━━━━━━━━━━━━━━━━━━━━━╇━━━━━━━━━━━━━━━━━╇━━━━━━━━━━━━━━━━━━━━━━━━━━━━┩\n",
       "│ input_layer (\u001b[38;5;33mInputLayer\u001b[0m)      │ (\u001b[38;5;45mNone\u001b[0m, \u001b[38;5;34m96\u001b[0m, \u001b[38;5;34m96\u001b[0m, \u001b[38;5;34m3\u001b[0m)         │               \u001b[38;5;34m0\u001b[0m │ -                          │\n",
       "├───────────────────────────────┼───────────────────────────┼─────────────────┼────────────────────────────┤\n",
       "│ conv2d (\u001b[38;5;33mConv2D\u001b[0m)               │ (\u001b[38;5;45mNone\u001b[0m, \u001b[38;5;34m96\u001b[0m, \u001b[38;5;34m96\u001b[0m, \u001b[38;5;34m32\u001b[0m)        │             \u001b[38;5;34m896\u001b[0m │ input_layer[\u001b[38;5;34m0\u001b[0m][\u001b[38;5;34m0\u001b[0m]          │\n",
       "├───────────────────────────────┼───────────────────────────┼─────────────────┼────────────────────────────┤\n",
       "│ batch_normalization           │ (\u001b[38;5;45mNone\u001b[0m, \u001b[38;5;34m96\u001b[0m, \u001b[38;5;34m96\u001b[0m, \u001b[38;5;34m32\u001b[0m)        │             \u001b[38;5;34m128\u001b[0m │ conv2d[\u001b[38;5;34m0\u001b[0m][\u001b[38;5;34m0\u001b[0m]               │\n",
       "│ (\u001b[38;5;33mBatchNormalization\u001b[0m)          │                           │                 │                            │\n",
       "├───────────────────────────────┼───────────────────────────┼─────────────────┼────────────────────────────┤\n",
       "│ activation (\u001b[38;5;33mActivation\u001b[0m)       │ (\u001b[38;5;45mNone\u001b[0m, \u001b[38;5;34m96\u001b[0m, \u001b[38;5;34m96\u001b[0m, \u001b[38;5;34m32\u001b[0m)        │               \u001b[38;5;34m0\u001b[0m │ batch_normalization[\u001b[38;5;34m0\u001b[0m][\u001b[38;5;34m0\u001b[0m]  │\n",
       "├───────────────────────────────┼───────────────────────────┼─────────────────┼────────────────────────────┤\n",
       "│ max_pooling2d (\u001b[38;5;33mMaxPooling2D\u001b[0m)  │ (\u001b[38;5;45mNone\u001b[0m, \u001b[38;5;34m48\u001b[0m, \u001b[38;5;34m48\u001b[0m, \u001b[38;5;34m32\u001b[0m)        │               \u001b[38;5;34m0\u001b[0m │ activation[\u001b[38;5;34m0\u001b[0m][\u001b[38;5;34m0\u001b[0m]           │\n",
       "├───────────────────────────────┼───────────────────────────┼─────────────────┼────────────────────────────┤\n",
       "│ conv2d_1 (\u001b[38;5;33mConv2D\u001b[0m)             │ (\u001b[38;5;45mNone\u001b[0m, \u001b[38;5;34m48\u001b[0m, \u001b[38;5;34m48\u001b[0m, \u001b[38;5;34m64\u001b[0m)        │          \u001b[38;5;34m18,496\u001b[0m │ max_pooling2d[\u001b[38;5;34m0\u001b[0m][\u001b[38;5;34m0\u001b[0m]        │\n",
       "├───────────────────────────────┼───────────────────────────┼─────────────────┼────────────────────────────┤\n",
       "│ batch_normalization_1         │ (\u001b[38;5;45mNone\u001b[0m, \u001b[38;5;34m48\u001b[0m, \u001b[38;5;34m48\u001b[0m, \u001b[38;5;34m64\u001b[0m)        │             \u001b[38;5;34m256\u001b[0m │ conv2d_1[\u001b[38;5;34m0\u001b[0m][\u001b[38;5;34m0\u001b[0m]             │\n",
       "│ (\u001b[38;5;33mBatchNormalization\u001b[0m)          │                           │                 │                            │\n",
       "├───────────────────────────────┼───────────────────────────┼─────────────────┼────────────────────────────┤\n",
       "│ activation_1 (\u001b[38;5;33mActivation\u001b[0m)     │ (\u001b[38;5;45mNone\u001b[0m, \u001b[38;5;34m48\u001b[0m, \u001b[38;5;34m48\u001b[0m, \u001b[38;5;34m64\u001b[0m)        │               \u001b[38;5;34m0\u001b[0m │ batch_normalization_1[\u001b[38;5;34m0\u001b[0m][\u001b[38;5;34m…\u001b[0m │\n",
       "├───────────────────────────────┼───────────────────────────┼─────────────────┼────────────────────────────┤\n",
       "│ max_pooling2d_1               │ (\u001b[38;5;45mNone\u001b[0m, \u001b[38;5;34m24\u001b[0m, \u001b[38;5;34m24\u001b[0m, \u001b[38;5;34m64\u001b[0m)        │               \u001b[38;5;34m0\u001b[0m │ activation_1[\u001b[38;5;34m0\u001b[0m][\u001b[38;5;34m0\u001b[0m]         │\n",
       "│ (\u001b[38;5;33mMaxPooling2D\u001b[0m)                │                           │                 │                            │\n",
       "├───────────────────────────────┼───────────────────────────┼─────────────────┼────────────────────────────┤\n",
       "│ conv2d_2 (\u001b[38;5;33mConv2D\u001b[0m)             │ (\u001b[38;5;45mNone\u001b[0m, \u001b[38;5;34m24\u001b[0m, \u001b[38;5;34m24\u001b[0m, \u001b[38;5;34m128\u001b[0m)       │          \u001b[38;5;34m73,856\u001b[0m │ max_pooling2d_1[\u001b[38;5;34m0\u001b[0m][\u001b[38;5;34m0\u001b[0m]      │\n",
       "├───────────────────────────────┼───────────────────────────┼─────────────────┼────────────────────────────┤\n",
       "│ batch_normalization_2         │ (\u001b[38;5;45mNone\u001b[0m, \u001b[38;5;34m24\u001b[0m, \u001b[38;5;34m24\u001b[0m, \u001b[38;5;34m128\u001b[0m)       │             \u001b[38;5;34m512\u001b[0m │ conv2d_2[\u001b[38;5;34m0\u001b[0m][\u001b[38;5;34m0\u001b[0m]             │\n",
       "│ (\u001b[38;5;33mBatchNormalization\u001b[0m)          │                           │                 │                            │\n",
       "├───────────────────────────────┼───────────────────────────┼─────────────────┼────────────────────────────┤\n",
       "│ activation_2 (\u001b[38;5;33mActivation\u001b[0m)     │ (\u001b[38;5;45mNone\u001b[0m, \u001b[38;5;34m24\u001b[0m, \u001b[38;5;34m24\u001b[0m, \u001b[38;5;34m128\u001b[0m)       │               \u001b[38;5;34m0\u001b[0m │ batch_normalization_2[\u001b[38;5;34m0\u001b[0m][\u001b[38;5;34m…\u001b[0m │\n",
       "├───────────────────────────────┼───────────────────────────┼─────────────────┼────────────────────────────┤\n",
       "│ max_pooling2d_2               │ (\u001b[38;5;45mNone\u001b[0m, \u001b[38;5;34m12\u001b[0m, \u001b[38;5;34m12\u001b[0m, \u001b[38;5;34m128\u001b[0m)       │               \u001b[38;5;34m0\u001b[0m │ activation_2[\u001b[38;5;34m0\u001b[0m][\u001b[38;5;34m0\u001b[0m]         │\n",
       "│ (\u001b[38;5;33mMaxPooling2D\u001b[0m)                │                           │                 │                            │\n",
       "├───────────────────────────────┼───────────────────────────┼─────────────────┼────────────────────────────┤\n",
       "│ flatten (\u001b[38;5;33mFlatten\u001b[0m)             │ (\u001b[38;5;45mNone\u001b[0m, \u001b[38;5;34m18432\u001b[0m)             │               \u001b[38;5;34m0\u001b[0m │ max_pooling2d_2[\u001b[38;5;34m0\u001b[0m][\u001b[38;5;34m0\u001b[0m]      │\n",
       "├───────────────────────────────┼───────────────────────────┼─────────────────┼────────────────────────────┤\n",
       "│ dense (\u001b[38;5;33mDense\u001b[0m)                 │ (\u001b[38;5;45mNone\u001b[0m, \u001b[38;5;34m128\u001b[0m)               │       \u001b[38;5;34m2,359,424\u001b[0m │ flatten[\u001b[38;5;34m0\u001b[0m][\u001b[38;5;34m0\u001b[0m]              │\n",
       "├───────────────────────────────┼───────────────────────────┼─────────────────┼────────────────────────────┤\n",
       "│ batch_normalization_3         │ (\u001b[38;5;45mNone\u001b[0m, \u001b[38;5;34m128\u001b[0m)               │             \u001b[38;5;34m512\u001b[0m │ dense[\u001b[38;5;34m0\u001b[0m][\u001b[38;5;34m0\u001b[0m]                │\n",
       "│ (\u001b[38;5;33mBatchNormalization\u001b[0m)          │                           │                 │                            │\n",
       "├───────────────────────────────┼───────────────────────────┼─────────────────┼────────────────────────────┤\n",
       "│ activation_3 (\u001b[38;5;33mActivation\u001b[0m)     │ (\u001b[38;5;45mNone\u001b[0m, \u001b[38;5;34m128\u001b[0m)               │               \u001b[38;5;34m0\u001b[0m │ batch_normalization_3[\u001b[38;5;34m0\u001b[0m][\u001b[38;5;34m…\u001b[0m │\n",
       "├───────────────────────────────┼───────────────────────────┼─────────────────┼────────────────────────────┤\n",
       "│ dropout (\u001b[38;5;33mDropout\u001b[0m)             │ (\u001b[38;5;45mNone\u001b[0m, \u001b[38;5;34m128\u001b[0m)               │               \u001b[38;5;34m0\u001b[0m │ activation_3[\u001b[38;5;34m0\u001b[0m][\u001b[38;5;34m0\u001b[0m]         │\n",
       "├───────────────────────────────┼───────────────────────────┼─────────────────┼────────────────────────────┤\n",
       "│ age_output (\u001b[38;5;33mDense\u001b[0m)            │ (\u001b[38;5;45mNone\u001b[0m, \u001b[38;5;34m5\u001b[0m)                 │             \u001b[38;5;34m645\u001b[0m │ dropout[\u001b[38;5;34m0\u001b[0m][\u001b[38;5;34m0\u001b[0m]              │\n",
       "├───────────────────────────────┼───────────────────────────┼─────────────────┼────────────────────────────┤\n",
       "│ gender_output (\u001b[38;5;33mDense\u001b[0m)         │ (\u001b[38;5;45mNone\u001b[0m, \u001b[38;5;34m1\u001b[0m)                 │             \u001b[38;5;34m129\u001b[0m │ dropout[\u001b[38;5;34m0\u001b[0m][\u001b[38;5;34m0\u001b[0m]              │\n",
       "└───────────────────────────────┴───────────────────────────┴─────────────────┴────────────────────────────┘\n"
      ]
     },
     "metadata": {},
     "output_type": "display_data"
    },
    {
     "data": {
      "text/html": [
       "<pre style=\"white-space:pre;overflow-x:auto;line-height:normal;font-family:Menlo,'DejaVu Sans Mono',consolas,'Courier New',monospace\"><span style=\"font-weight: bold\"> Total params: </span><span style=\"color: #00af00; text-decoration-color: #00af00\">2,454,854</span> (9.36 MB)\n",
       "</pre>\n"
      ],
      "text/plain": [
       "\u001b[1m Total params: \u001b[0m\u001b[38;5;34m2,454,854\u001b[0m (9.36 MB)\n"
      ]
     },
     "metadata": {},
     "output_type": "display_data"
    },
    {
     "data": {
      "text/html": [
       "<pre style=\"white-space:pre;overflow-x:auto;line-height:normal;font-family:Menlo,'DejaVu Sans Mono',consolas,'Courier New',monospace\"><span style=\"font-weight: bold\"> Trainable params: </span><span style=\"color: #00af00; text-decoration-color: #00af00\">2,454,150</span> (9.36 MB)\n",
       "</pre>\n"
      ],
      "text/plain": [
       "\u001b[1m Trainable params: \u001b[0m\u001b[38;5;34m2,454,150\u001b[0m (9.36 MB)\n"
      ]
     },
     "metadata": {},
     "output_type": "display_data"
    },
    {
     "data": {
      "text/html": [
       "<pre style=\"white-space:pre;overflow-x:auto;line-height:normal;font-family:Menlo,'DejaVu Sans Mono',consolas,'Courier New',monospace\"><span style=\"font-weight: bold\"> Non-trainable params: </span><span style=\"color: #00af00; text-decoration-color: #00af00\">704</span> (2.75 KB)\n",
       "</pre>\n"
      ],
      "text/plain": [
       "\u001b[1m Non-trainable params: \u001b[0m\u001b[38;5;34m704\u001b[0m (2.75 KB)\n"
      ]
     },
     "metadata": {},
     "output_type": "display_data"
    }
   ],
   "source": [
    "def build_combined_model(input_shape, num_age_classes):\n",
    "    inputs = Input(shape=input_shape)\n",
    "\n",
    "    x = Conv2D(32, (3, 3), padding='same')(inputs)\n",
    "    x = BatchNormalization()(x)\n",
    "    x = Activation('relu')(x)\n",
    "    x = MaxPooling2D(pool_size=(2, 2))(x)\n",
    "\n",
    "    x = Conv2D(64, (3, 3), padding='same')(x)\n",
    "    x = BatchNormalization()(x)\n",
    "    x = Activation('relu')(x)\n",
    "    x = MaxPooling2D(pool_size=(2, 2))(x)\n",
    "\n",
    "    x = Conv2D(128, (3, 3), padding='same')(x)\n",
    "    x = BatchNormalization()(x)\n",
    "    x = Activation('relu')(x)\n",
    "    x = MaxPooling2D(pool_size=(2, 2))(x)\n",
    "\n",
    "    x = Flatten()(x)\n",
    "    x = Dense(128)(x)\n",
    "    x = BatchNormalization()(x)\n",
    "    x = Activation('relu')(x)\n",
    "    x = Dropout(0.5)(x)\n",
    "\n",
    "    age_output = Dense(num_age_classes, activation='softmax', name='age_output')(x)\n",
    "    gender_output = Dense(1, activation='sigmoid', name='gender_output')(x)\n",
    "\n",
    "    model = tf.keras.models.Model(inputs=inputs, outputs=[age_output, gender_output], name=\"AgeGenderModel\")\n",
    "\n",
    "    model.compile(optimizer=Adam(learning_rate=0.001),\n",
    "                  loss={'age_output': 'categorical_crossentropy', 'gender_output': 'binary_crossentropy'},\n",
    "                  metrics={'age_output': 'accuracy', 'gender_output': 'accuracy'},\n",
    "                  loss_weights={'age_output': 1.0, 'gender_output': 1.0})\n",
    "    \n",
    "    return model\n",
    "\n",
    "# Example usage:\n",
    "input_shape = IMAGE_SIZE + (3,)\n",
    "model = build_combined_model(input_shape, NUM_AGE_CLASSES)\n",
    "model.summary()"
   ]
  },
  {
   "cell_type": "code",
   "execution_count": 20,
   "id": "ff385071-9edf-4cac-ab2f-46a72665db7e",
   "metadata": {},
   "outputs": [],
   "source": [
    "early_stopping = EarlyStopping(monitor='val_loss', patience=8, restore_best_weights=True, verbose=1)\n",
    "reduce_lr = ReduceLROnPlateau(monitor='val_loss', factor=0.2, patience=4, min_lr=0.00001, verbose=1)"
   ]
  },
  {
   "cell_type": "code",
   "execution_count": 21,
   "id": "bfdbf304-ab56-4c55-8016-c8871cf278d1",
   "metadata": {},
   "outputs": [
    {
     "name": "stdout",
     "output_type": "stream",
     "text": [
      "\n",
      "--- Starting Model Training ---\n",
      "Epoch 1/30\n",
      "\u001b[1m296/296\u001b[0m \u001b[32m━━━━━━━━━━━━━━━━━━━━\u001b[0m\u001b[37m\u001b[0m \u001b[1m1539s\u001b[0m 5s/step - age_output_accuracy: 0.4815 - age_output_loss: 1.3546 - gender_output_accuracy: 0.7884 - gender_output_loss: 0.4626 - loss: 1.8172 - val_age_output_accuracy: 0.4941 - val_age_output_loss: 1.4669 - val_gender_output_accuracy: 0.8587 - val_gender_output_loss: 0.4345 - val_loss: 1.9015 - learning_rate: 0.0010\n",
      "Epoch 2/30\n",
      "\u001b[1m296/296\u001b[0m \u001b[32m━━━━━━━━━━━━━━━━━━━━\u001b[0m\u001b[37m\u001b[0m \u001b[1m415s\u001b[0m 1s/step - age_output_accuracy: 0.6287 - age_output_loss: 0.8642 - gender_output_accuracy: 0.8789 - gender_output_loss: 0.2755 - loss: 1.1397 - val_age_output_accuracy: 0.6408 - val_age_output_loss: 0.8823 - val_gender_output_accuracy: 0.8957 - val_gender_output_loss: 0.2479 - val_loss: 1.1302 - learning_rate: 0.0010\n",
      "Epoch 3/30\n",
      "\u001b[1m296/296\u001b[0m \u001b[32m━━━━━━━━━━━━━━━━━━━━\u001b[0m\u001b[37m\u001b[0m \u001b[1m216s\u001b[0m 720ms/step - age_output_accuracy: 0.6833 - age_output_loss: 0.7415 - gender_output_accuracy: 0.9039 - gender_output_loss: 0.2339 - loss: 0.9754 - val_age_output_accuracy: 0.6349 - val_age_output_loss: 0.8585 - val_gender_output_accuracy: 0.9031 - val_gender_output_loss: 0.2292 - val_loss: 1.0877 - learning_rate: 0.0010\n",
      "Epoch 4/30\n",
      "\u001b[1m296/296\u001b[0m \u001b[32m━━━━━━━━━━━━━━━━━━━━\u001b[0m\u001b[37m\u001b[0m \u001b[1m225s\u001b[0m 761ms/step - age_output_accuracy: 0.7166 - age_output_loss: 0.6684 - gender_output_accuracy: 0.9195 - gender_output_loss: 0.2025 - loss: 0.8709 - val_age_output_accuracy: 0.6639 - val_age_output_loss: 0.8322 - val_gender_output_accuracy: 0.9012 - val_gender_output_loss: 0.2363 - val_loss: 1.0685 - learning_rate: 0.0010\n",
      "Epoch 5/30\n",
      "\u001b[1m296/296\u001b[0m \u001b[32m━━━━━━━━━━━━━━━━━━━━\u001b[0m\u001b[37m\u001b[0m \u001b[1m220s\u001b[0m 743ms/step - age_output_accuracy: 0.7443 - age_output_loss: 0.6088 - gender_output_accuracy: 0.9275 - gender_output_loss: 0.1797 - loss: 0.7885 - val_age_output_accuracy: 0.6622 - val_age_output_loss: 0.7856 - val_gender_output_accuracy: 0.9005 - val_gender_output_loss: 0.2290 - val_loss: 1.0145 - learning_rate: 0.0010\n",
      "Epoch 6/30\n",
      "\u001b[1m296/296\u001b[0m \u001b[32m━━━━━━━━━━━━━━━━━━━━\u001b[0m\u001b[37m\u001b[0m \u001b[1m221s\u001b[0m 745ms/step - age_output_accuracy: 0.7824 - age_output_loss: 0.5454 - gender_output_accuracy: 0.9373 - gender_output_loss: 0.1576 - loss: 0.7030 - val_age_output_accuracy: 0.6448 - val_age_output_loss: 0.9229 - val_gender_output_accuracy: 0.9086 - val_gender_output_loss: 0.2255 - val_loss: 1.1484 - learning_rate: 0.0010\n",
      "Epoch 7/30\n",
      "\u001b[1m296/296\u001b[0m \u001b[32m━━━━━━━━━━━━━━━━━━━━\u001b[0m\u001b[37m\u001b[0m \u001b[1m194s\u001b[0m 654ms/step - age_output_accuracy: 0.7970 - age_output_loss: 0.4983 - gender_output_accuracy: 0.9506 - gender_output_loss: 0.1330 - loss: 0.6312 - val_age_output_accuracy: 0.6586 - val_age_output_loss: 0.8297 - val_gender_output_accuracy: 0.9039 - val_gender_output_loss: 0.2252 - val_loss: 1.0549 - learning_rate: 0.0010\n",
      "Epoch 8/30\n",
      "\u001b[1m296/296\u001b[0m \u001b[32m━━━━━━━━━━━━━━━━━━━━\u001b[0m\u001b[37m\u001b[0m \u001b[1m206s\u001b[0m 694ms/step - age_output_accuracy: 0.8330 - age_output_loss: 0.4280 - gender_output_accuracy: 0.9497 - gender_output_loss: 0.1232 - loss: 0.5512 - val_age_output_accuracy: 0.6575 - val_age_output_loss: 0.8889 - val_gender_output_accuracy: 0.9105 - val_gender_output_loss: 0.2232 - val_loss: 1.1122 - learning_rate: 0.0010\n",
      "Epoch 9/30\n",
      "\u001b[1m296/296\u001b[0m \u001b[32m━━━━━━━━━━━━━━━━━━━━\u001b[0m\u001b[37m\u001b[0m \u001b[1m0s\u001b[0m 703ms/step - age_output_accuracy: 0.8549 - age_output_loss: 0.3730 - gender_output_accuracy: 0.9622 - gender_output_loss: 0.1021 - loss: 0.4751\n",
      "Epoch 9: ReduceLROnPlateau reducing learning rate to 0.00020000000949949026.\n",
      "\u001b[1m296/296\u001b[0m \u001b[32m━━━━━━━━━━━━━━━━━━━━\u001b[0m\u001b[37m\u001b[0m \u001b[1m220s\u001b[0m 743ms/step - age_output_accuracy: 0.8549 - age_output_loss: 0.3731 - gender_output_accuracy: 0.9622 - gender_output_loss: 0.1021 - loss: 0.4752 - val_age_output_accuracy: 0.6444 - val_age_output_loss: 0.9493 - val_gender_output_accuracy: 0.8748 - val_gender_output_loss: 0.3252 - val_loss: 1.2745 - learning_rate: 0.0010\n",
      "Epoch 10/30\n",
      "\u001b[1m296/296\u001b[0m \u001b[32m━━━━━━━━━━━━━━━━━━━━\u001b[0m\u001b[37m\u001b[0m \u001b[1m200s\u001b[0m 677ms/step - age_output_accuracy: 0.8909 - age_output_loss: 0.2961 - gender_output_accuracy: 0.9720 - gender_output_loss: 0.0814 - loss: 0.3775 - val_age_output_accuracy: 0.6848 - val_age_output_loss: 0.8274 - val_gender_output_accuracy: 0.9128 - val_gender_output_loss: 0.2182 - val_loss: 1.0456 - learning_rate: 2.0000e-04\n",
      "Epoch 11/30\n",
      "\u001b[1m296/296\u001b[0m \u001b[32m━━━━━━━━━━━━━━━━━━━━\u001b[0m\u001b[37m\u001b[0m \u001b[1m208s\u001b[0m 702ms/step - age_output_accuracy: 0.9278 - age_output_loss: 0.2264 - gender_output_accuracy: 0.9831 - gender_output_loss: 0.0576 - loss: 0.2840 - val_age_output_accuracy: 0.6816 - val_age_output_loss: 0.8806 - val_gender_output_accuracy: 0.9113 - val_gender_output_loss: 0.2326 - val_loss: 1.1132 - learning_rate: 2.0000e-04\n",
      "Epoch 12/30\n",
      "\u001b[1m296/296\u001b[0m \u001b[32m━━━━━━━━━━━━━━━━━━━━\u001b[0m\u001b[37m\u001b[0m \u001b[1m207s\u001b[0m 699ms/step - age_output_accuracy: 0.9372 - age_output_loss: 0.2001 - gender_output_accuracy: 0.9817 - gender_output_loss: 0.0573 - loss: 0.2574 - val_age_output_accuracy: 0.6784 - val_age_output_loss: 0.8836 - val_gender_output_accuracy: 0.9103 - val_gender_output_loss: 0.2343 - val_loss: 1.1179 - learning_rate: 2.0000e-04\n",
      "Epoch 13/30\n",
      "\u001b[1m296/296\u001b[0m \u001b[32m━━━━━━━━━━━━━━━━━━━━\u001b[0m\u001b[37m\u001b[0m \u001b[1m0s\u001b[0m 2s/step - age_output_accuracy: 0.9442 - age_output_loss: 0.1766 - gender_output_accuracy: 0.9823 - gender_output_loss: 0.0537 - loss: 0.2303\n",
      "Epoch 13: ReduceLROnPlateau reducing learning rate to 4.0000001899898055e-05.\n",
      "\u001b[1m296/296\u001b[0m \u001b[32m━━━━━━━━━━━━━━━━━━━━\u001b[0m\u001b[37m\u001b[0m \u001b[1m656s\u001b[0m 2s/step - age_output_accuracy: 0.9442 - age_output_loss: 0.1766 - gender_output_accuracy: 0.9823 - gender_output_loss: 0.0537 - loss: 0.2303 - val_age_output_accuracy: 0.6826 - val_age_output_loss: 0.8945 - val_gender_output_accuracy: 0.9117 - val_gender_output_loss: 0.2382 - val_loss: 1.1327 - learning_rate: 2.0000e-04\n",
      "Epoch 13: early stopping\n",
      "Restoring model weights from the end of the best epoch: 5.\n"
     ]
    }
   ],
   "source": [
    "print(\"\\n--- Starting Model Training ---\")\n",
    "history = model.fit(\n",
    "    train_generator,\n",
    "    epochs=EPOCHS,\n",
    "    validation_data=validation_generator,\n",
    "    callbacks=[early_stopping, reduce_lr],\n",
    "    verbose=1\n",
    ")"
   ]
  },
  {
   "cell_type": "code",
   "execution_count": 22,
   "id": "fd1a9e86-5a07-4847-889f-580598baeea3",
   "metadata": {},
   "outputs": [
    {
     "name": "stdout",
     "output_type": "stream",
     "text": [
      "\n",
      "--- Evaluating Model Performance ---\n",
      "\u001b[1m74/74\u001b[0m \u001b[32m━━━━━━━━━━━━━━━━━━━━\u001b[0m\u001b[37m\u001b[0m \u001b[1m9s\u001b[0m 118ms/step - age_output_accuracy: 0.6594 - age_output_loss: 0.8077 - gender_output_accuracy: 0.9103 - gender_output_loss: 0.2229 - loss: 1.0305\n",
      "\n",
      "Validation Loss (Total): 1.0145\n",
      "Validation Loss (Age): 0.7856\n",
      "Validation Loss (Gender): 0.2290\n",
      "Validation Accuracy (Age): 0.6622\n",
      "Validation Accuracy (Gender): 0.9005\n"
     ]
    }
   ],
   "source": [
    "print(\"\\n--- Evaluating Model Performance ---\")\n",
    "     \n",
    "\n",
    "eval_results = model.evaluate(validation_generator)\n",
    "     \n",
    "\n",
    "print(f\"\\nValidation Loss (Total): {eval_results[0]:.4f}\")\n",
    "print(f\"Validation Loss (Age): {eval_results[1]:.4f}\")\n",
    "print(f\"Validation Loss (Gender): {eval_results[2]:.4f}\")\n",
    "print(f\"Validation Accuracy (Age): {eval_results[3]:.4f}\")\n",
    "print(f\"Validation Accuracy (Gender): {eval_results[4]:.4f}\")"
   ]
  },
  {
   "cell_type": "code",
   "execution_count": 23,
   "id": "3041984e-0dc4-4ca1-afe3-1f897bb63288",
   "metadata": {},
   "outputs": [],
   "source": [
    "min_accuracy = 0.70\n",
    "age_acc_ok = eval_results[3] >= min_accuracy\n",
    "gender_acc_ok = eval_results[4] >= min_accuracy"
   ]
  },
  {
   "cell_type": "code",
   "execution_count": 24,
   "id": "d98500fc-e25e-4043-a673-18d5350bc1ef",
   "metadata": {},
   "outputs": [
    {
     "name": "stdout",
     "output_type": "stream",
     "text": [
      "WARNING: Age model accuracy (0.6622) is BELOW the 70.0% target!\n",
      "Gender model meets the 70.0% accuracy target.\n"
     ]
    }
   ],
   "source": [
    "if age_acc_ok:\n",
    "    print(f\"Age model meets the {min_accuracy*100}% accuracy target.\")\n",
    "else:\n",
    "    print(f\"WARNING: Age model accuracy ({eval_results[3]:.4f}) is BELOW the {min_accuracy*100}% target!\")\n",
    "\n",
    "if gender_acc_ok:\n",
    "    print(f\"Gender model meets the {min_accuracy*100}% accuracy target.\")\n",
    "else:\n",
    "    print(f\"WARNING: Gender model accuracy ({eval_results[4]:.4f}) is BELOW the {min_accuracy*100}% target!\")"
   ]
  },
  {
   "cell_type": "code",
   "execution_count": 25,
   "id": "319a94c2-4c59-40d6-9eb7-1fc6a5bf8a90",
   "metadata": {},
   "outputs": [
    {
     "name": "stdout",
     "output_type": "stream",
     "text": [
      "\n",
      "Generating detailed reports (this may take a moment)...\n",
      "\u001b[1m74/74\u001b[0m \u001b[32m━━━━━━━━━━━━━━━━━━━━\u001b[0m\u001b[37m\u001b[0m \u001b[1m10s\u001b[0m 123ms/step\n"
     ]
    }
   ],
   "source": [
    "print(\"\\nGenerating detailed reports (this may take a moment)...\")\n",
    "num_val_samples = len(X_val_paths)\n",
    "\n",
    "pred_generator = CustomDataGenerator(X_val_paths, y_age_val, y_gender_val, BATCH_SIZE, IMAGE_SIZE, shuffle=False)\n",
    "predictions = model.predict(pred_generator, steps=len(pred_generator))\n",
    "age_preds_prob = predictions[0]\n",
    "gender_preds_prob = predictions[1]\n",
    "\n",
    "true_ages = []\n",
    "true_genders = []\n"
   ]
  },
  {
   "cell_type": "code",
   "execution_count": 26,
   "id": "19e693c7-bf7e-448c-9d1d-d36c36d8c112",
   "metadata": {},
   "outputs": [],
   "source": [
    "for i in range(len(pred_generator)):\n",
    "    _, labels_dict = pred_generator[i]\n",
    "    true_ages.extend(np.argmax(labels_dict['age_output'], axis=1))\n",
    "    true_genders.extend(labels_dict['gender_output'].flatten())\n",
    "\n",
    "age_preds_classes = np.argmax(age_preds_prob, axis=1)\n",
    "gender_preds_classes = (gender_preds_prob > 0.5).astype(int).flatten()\n",
    "\n",
    "num_preds = len(age_preds_classes)\n",
    "true_ages = true_ages[:num_preds]\n",
    "true_genders = true_genders[:num_preds]"
   ]
  },
  {
   "cell_type": "code",
   "execution_count": 27,
   "id": "4898510a-6ebb-420a-9235-6b7f80381e2e",
   "metadata": {},
   "outputs": [
    {
     "name": "stdout",
     "output_type": "stream",
     "text": [
      "\n",
      "--- Age Classification Report ---\n",
      "              precision    recall  f1-score   support\n",
      "\n",
      "        0-18       0.79      0.91      0.85       904\n",
      "       19-30       0.70      0.74      0.72      1631\n",
      "       31-45       0.52      0.47      0.49      1074\n",
      "       46-60       0.48      0.51      0.50       627\n",
      "         61+       0.81      0.57      0.67       500\n",
      "\n",
      "    accuracy                           0.66      4736\n",
      "   macro avg       0.66      0.64      0.64      4736\n",
      "weighted avg       0.66      0.66      0.66      4736\n",
      "\n",
      "Age Confusion Matrix:\n",
      "[[ 825   69    5    3    2]\n",
      " [ 162 1203  238   24    4]\n",
      " [  39  393  504  129    9]\n",
      " [  14   42  200  321   50]\n",
      " [   5    3   17  192  283]]\n"
     ]
    }
   ],
   "source": [
    "print(\"\\n--- Age Classification Report ---\")\n",
    "print(classification_report(true_ages, age_preds_classes, target_names=AGE_LABELS, zero_division=0))\n",
    "print(\"Age Confusion Matrix:\")\n",
    "print(confusion_matrix(true_ages, age_preds_classes))"
   ]
  },
  {
   "cell_type": "code",
   "execution_count": 28,
   "id": "98cc74c2-d9c6-4d38-8fd0-b66d3d87e845",
   "metadata": {},
   "outputs": [
    {
     "name": "stdout",
     "output_type": "stream",
     "text": [
      "\n",
      "--- Gender Classification Report ---\n",
      "              precision    recall  f1-score   support\n",
      "\n",
      "        Male       0.91      0.89      0.90      2476\n",
      "      Female       0.89      0.91      0.90      2260\n",
      "\n",
      "    accuracy                           0.90      4736\n",
      "   macro avg       0.90      0.90      0.90      4736\n",
      "weighted avg       0.90      0.90      0.90      4736\n",
      "\n",
      "Gender Confusion Matrix:\n",
      "[[2213  263]\n",
      " [ 208 2052]]\n"
     ]
    }
   ],
   "source": [
    "print(\"\\n--- Gender Classification Report ---\")\n",
    "print(classification_report(true_genders, gender_preds_classes, target_names=GENDER_LABELS, zero_division=0))\n",
    "print(\"Gender Confusion Matrix:\")\n",
    "print(confusion_matrix(true_genders, gender_preds_classes))"
   ]
  },
  {
   "cell_type": "code",
   "execution_count": 29,
   "id": "b92237ad-ab98-4556-a93c-2fb49759cefb",
   "metadata": {},
   "outputs": [
    {
     "name": "stdout",
     "output_type": "stream",
     "text": [
      "\n",
      "Saving combined model to saved_age_gender_models\\AGE_GROUP_MODELS.h5 (contains both age and gender)...\n"
     ]
    },
    {
     "name": "stderr",
     "output_type": "stream",
     "text": [
      "WARNING:absl:You are saving your model as an HDF5 file via `model.save()` or `keras.saving.save_model(model)`. This file format is considered legacy. We recommend using instead the native Keras format, e.g. `model.save('my_model.keras')` or `keras.saving.save_model(model, 'my_model.keras')`. \n"
     ]
    },
    {
     "name": "stdout",
     "output_type": "stream",
     "text": [
      "Model saved successfully.\n"
     ]
    }
   ],
   "source": [
    "print(f\"\\nSaving combined model to {AGE_MODEL_PATH} (contains both age and gender)...\")\n",
    "model.save(AGE_MODEL_PATH)\n",
    "print(\"Model saved successfully.\")"
   ]
  },
  {
   "cell_type": "code",
   "execution_count": 31,
   "id": "922b4fe9-5a55-41ce-9475-d32ad2d03832",
   "metadata": {},
   "outputs": [
    {
     "name": "stderr",
     "output_type": "stream",
     "text": [
      "WARNING:absl:You are saving your model as an HDF5 file via `model.save()` or `keras.saving.save_model(model)`. This file format is considered legacy. We recommend using instead the native Keras format, e.g. `model.save('my_model.keras')` or `keras.saving.save_model(model, 'my_model.keras')`. \n"
     ]
    },
    {
     "name": "stdout",
     "output_type": "stream",
     "text": [
      "Gender model saved successfully at: saved_age_gender_models\\GENDER_MODELS.h5\n"
     ]
    }
   ],
   "source": [
    "# Save the gender model\n",
    "model.save(GENDER_MODEL_PATH)\n",
    "print(\"Gender model saved successfully at:\", GENDER_MODEL_PATH)"
   ]
  },
  {
   "cell_type": "code",
   "execution_count": null,
   "id": "63a5025d-c4f8-4670-824d-6c7cd23d93cd",
   "metadata": {},
   "outputs": [],
   "source": []
  }
 ],
 "metadata": {
  "kernelspec": {
   "display_name": "Python 3 (ipykernel)",
   "language": "python",
   "name": "python3"
  },
  "language_info": {
   "codemirror_mode": {
    "name": "ipython",
    "version": 3
   },
   "file_extension": ".py",
   "mimetype": "text/x-python",
   "name": "python",
   "nbconvert_exporter": "python",
   "pygments_lexer": "ipython3",
   "version": "3.12.8"
  }
 },
 "nbformat": 4,
 "nbformat_minor": 5
}
